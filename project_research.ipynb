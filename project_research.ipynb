{
 "cells": [
  {
   "cell_type": "code",
   "execution_count": null,
   "metadata": {},
   "outputs": [],
   "source": [
    "import edge_tts\n",
    "import asyncio\n",
    "import playsound\n",
    "\n",
    "TEXT = \"Hello, my name is Sonia. I am a text-to-speech engine. I can convert text to speech.\"\n",
    "VOICE = \"en-GB-SoniaNeural\"\n",
    "OUTPUT_FILE = \"test.mp3\"\n",
    "\n",
    "async def amain() -> None:\n",
    "    \"\"\"Main function\"\"\"\n",
    "    communicate = edge_tts.Communicate(TEXT, VOICE)\n",
    "    await communicate.save(OUTPUT_FILE)\n",
    "\n",
    "\n",
    "if __name__ == \"__main__\":\n",
    "    asyncio.run(amain())\n",
    "    playsound.playsound(OUTPUT_FILE)    \n"
   ]
  },
  {
   "cell_type": "code",
   "execution_count": 1,
   "metadata": {},
   "outputs": [
    {
     "data": {
      "text/plain": [
       "langchain_core.runnables.base.RunnableSequence"
      ]
     },
     "execution_count": 1,
     "metadata": {},
     "output_type": "execute_result"
    }
   ],
   "source": [
    "from config_loader import config\n",
    "from langchain_core.output_parsers import StrOutputParser\n",
    "from langchain_core.prompts import ChatPromptTemplate\n",
    "from langchain_openai import ChatOpenAI\n",
    "\n",
    "llm_gpt4 = ChatOpenAI(model=config['openai_model'], api_key=config['openai_api_key'])\n",
    "\n",
    "# create prompt\n",
    "prompt = ChatPromptTemplate.from_messages(\n",
    "    [\n",
    "        (\"system\", \"You are a helpful assistant answering questions.\"),\n",
    "        (\"ai\", \"Hello! I am your helpful assistant. How can I help you today?\"),\n",
    "        (\"human\", \"Give me a good French comedy.\"),\n",
    "        (\"ai\", \"Sure! How about 'Amélie'?\"),\n",
    "        (\"human\", \"Do you know the height of the Eiffel Tower?\"),\n",
    "        (\"ai\", \"Sure, the Eiffel Tower is 324 meters tall.\"),\n",
    "        (\"placeholder\", \"{chat_history}\"),\n",
    "        (\"human\", \"{input}\"),\n",
    "    ]\n",
    ")\n",
    "\n",
    "# create string output parser\n",
    "str_output_parser = StrOutputParser()\n",
    "\n",
    "# create chain\n",
    "chain = prompt | llm_gpt4 | str_output_parser\n",
    "\n",
    "type(chain)"
   ]
  },
  {
   "cell_type": "code",
   "execution_count": null,
   "metadata": {},
   "outputs": [],
   "source": [
    "import pyaudio\n",
    "import wave\n",
    "\n",
    "def play_audio(file_path):\n",
    "    # Open the audio file\n",
    "    wf = wave.open(file_path, 'rb')\n",
    "\n",
    "    # Create an interface to PortAudio\n",
    "    p = pyaudio.PyAudio()\n",
    "\n",
    "    # Open a .Stream object to write the WAV file to\n",
    "    # 'output = True' indicates that the sound will be played rather than recorded\n",
    "    stream = p.open(format=p.get_format_from_width(wf.getsampwidth()),\n",
    "                    channels=wf.getnchannels(),\n",
    "                    rate=wf.getframerate(),\n",
    "                    output=True)\n",
    "\n",
    "    # Read data in chunks\n",
    "    chunk_size = 1024\n",
    "    data = wf.readframes(chunk_size)\n",
    "\n",
    "    # Play the sound by writing the audio data to the stream\n",
    "    while data:\n",
    "        stream.write(data)\n",
    "        data = wf.readframes(chunk_size)\n",
    "\n",
    "    # Close and terminate the stream\n",
    "    stream.close()\n",
    "    p.terminate()\n",
    "\n",
    "if __name__ == \"__main__\":\n",
    "    file_path = '_temp.wav'  # Replace with the path to your audio file\n",
    "    play_audio(file_path)\n"
   ]
  },
  {
   "cell_type": "code",
   "execution_count": 5,
   "metadata": {},
   "outputs": [],
   "source": [
    "from pydub import AudioSegment\n",
    "from pydub.playback import play\n",
    "\n",
    "def play_audio(file_path):\n",
    "    # Load the audio file\n",
    "    audio = AudioSegment.from_file(file_path)\n",
    "\n",
    "    # Play the audio file\n",
    "    play(audio)\n",
    "\n",
    "if __name__ == \"__main__\":\n",
    "    file_path = '_temp.wav'  # Replace with the path to your audio file\n",
    "    play_audio(file_path)"
   ]
  }
 ],
 "metadata": {
  "kernelspec": {
   "display_name": ".venv",
   "language": "python",
   "name": "python3"
  },
  "language_info": {
   "codemirror_mode": {
    "name": "ipython",
    "version": 3
   },
   "file_extension": ".py",
   "mimetype": "text/x-python",
   "name": "python",
   "nbconvert_exporter": "python",
   "pygments_lexer": "ipython3",
   "version": "3.12.2"
  }
 },
 "nbformat": 4,
 "nbformat_minor": 2
}
